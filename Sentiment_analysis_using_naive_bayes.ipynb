{
 "cells": [
  {
   "cell_type": "markdown",
   "id": "developing-pierre",
   "metadata": {},
   "source": [
    "# Getting the data"
   ]
  },
  {
   "cell_type": "code",
   "execution_count": 23,
   "id": "fuzzy-eating",
   "metadata": {},
   "outputs": [],
   "source": [
    "# Import libraries\n",
    "import nltk\n",
    "from nltk.corpus import stopwords,twitter_samples\n",
    "import os\n",
    "import re\n",
    "import string\n",
    "import pandas as pd\n",
    "import numpy as np\n",
    "import random\n",
    "from utils import process_tweet,lookup"
   ]
  },
  {
   "cell_type": "code",
   "execution_count": 12,
   "id": "lasting-logistics",
   "metadata": {},
   "outputs": [],
   "source": [
    "# Get all tweets\n",
    "all_positive_tweets = twitter_samples.strings('positive_tweets.json')\n",
    "all_negative_tweets = twitter_samples.strings('negative_tweets.json')"
   ]
  },
  {
   "cell_type": "code",
   "execution_count": 13,
   "id": "altered-backing",
   "metadata": {},
   "outputs": [
    {
     "name": "stdout",
     "output_type": "stream",
     "text": [
      "Total positive tweets :  5000\n",
      "Total negative tweets :  5000\n"
     ]
    }
   ],
   "source": [
    "# Total number of tweets\n",
    "print(\"Total positive tweets : \",len(all_positive_tweets))\n",
    "print(\"Total negative tweets : \",len(all_negative_tweets))"
   ]
  },
  {
   "cell_type": "code",
   "execution_count": 19,
   "id": "earlier-consequence",
   "metadata": {},
   "outputs": [
    {
     "name": "stdout",
     "output_type": "stream",
     "text": [
      "4000\n"
     ]
    }
   ],
   "source": [
    "# Split data into training and testing(validation)\n",
    "split_size = int(0.8 * len(all_positive_tweets))\n",
    "print(split_size)\n",
    "\n",
    "train_pos = all_positive_tweets[:split_size]\n",
    "test_pos = all_positive_tweets[split_size:]\n",
    "train_neg = all_negative_tweets[:split_size]\n",
    "test_neg = all_negative_tweets[split_size:]\n",
    "\n",
    "train_tweets = train_pos + train_neg\n",
    "test_tweets = test_pos + test_neg\n",
    "\n",
    "train_labels = np.append(np.ones(len(train_pos)),np.zeros(len(train_neg)))\n",
    "test_labels = np.append(np.ones(len(test_pos)),np.zeros(len(test_neg)))"
   ]
  },
  {
   "cell_type": "markdown",
   "id": "august-samoa",
   "metadata": {},
   "source": [
    "# Pre-processing the data"
   ]
  },
  {
   "cell_type": "markdown",
   "id": "external-world",
   "metadata": {},
   "source": [
    "Tokenize, remove punctuation, remove Stopwords, Perform Stemming\n",
    "\n",
    "We have a helper function in utils.py file to do all that\n"
   ]
  },
  {
   "cell_type": "code",
   "execution_count": 25,
   "id": "clear-integration",
   "metadata": {},
   "outputs": [
    {
     "name": "stdout",
     "output_type": "stream",
     "text": [
      "['hello', 'great', 'day', ':)', 'good', 'morn']\n"
     ]
    }
   ],
   "source": [
    "Example_custom_tweet = \"RT @Twitter @chapagain Hello There! Have a great day. :) #good #morning http://chapagain.com.np\"\n",
    "print(process_tweet(Example_custom_tweet))"
   ]
  },
  {
   "cell_type": "code",
   "execution_count": 32,
   "id": "mineral-arrest",
   "metadata": {},
   "outputs": [],
   "source": [
    "# Implement a function to return the frequency mapping of each word and it's label\n",
    "# (Word,label) : frequency\n",
    "\n",
    "def count_tweets(result,tweets,ys):\n",
    "    # result is empty dictionary. We have to populate it \n",
    "    # tweets is list of tweets\n",
    "    # ys is label of each tweet\n",
    "    \n",
    "    for tweet,y in zip(tweets,ys):\n",
    "        token_list = process_tweet(tweet)\n",
    "        for token in token_list:\n",
    "            pair = (token,y)\n",
    "            if pair in result:\n",
    "                result[pair] += 1\n",
    "            else:\n",
    "                result[pair] = 1\n",
    "    return result"
   ]
  },
  {
   "cell_type": "code",
   "execution_count": 33,
   "id": "freelance-bunch",
   "metadata": {},
   "outputs": [
    {
     "data": {
      "text/plain": [
       "{('happi', 1): 1, ('trick', 0): 1, ('sad', 0): 1, ('tire', 0): 2}"
      ]
     },
     "execution_count": 33,
     "metadata": {},
     "output_type": "execute_result"
    }
   ],
   "source": [
    "# Testing your function\n",
    "\n",
    "result = {}\n",
    "tweets = ['i am happy', 'i am tricked', 'i am sad', 'i am tired', 'i am tired']\n",
    "ys = [1, 0, 0, 0, 0]\n",
    "count_tweets(result, tweets, ys)"
   ]
  },
  {
   "cell_type": "code",
   "execution_count": 36,
   "id": "sufficient-enemy",
   "metadata": {},
   "outputs": [],
   "source": [
    "# Build our frequency table\n",
    "freqs = count_tweets({},train_tweets,train_labels)"
   ]
  },
  {
   "cell_type": "markdown",
   "id": "exceptional-treatment",
   "metadata": {},
   "source": [
    "# Test Naive Bayes"
   ]
  },
  {
   "cell_type": "code",
   "execution_count": 41,
   "id": "national-darwin",
   "metadata": {},
   "outputs": [],
   "source": [
    "def train_naive_bayes(freqs, train_x, train_y):\n",
    "    '''\n",
    "    Input:\n",
    "        freqs: dictionary from (word, label) to how often the word appears\n",
    "        train_x: a list of tweets\n",
    "        train_y: a list of labels correponding to the tweets (0,1)\n",
    "    Output:\n",
    "        logprior: the log prior. \n",
    "        loglikelihood: the log likelihood of you Naive bayes equation.\n",
    "    '''\n",
    "    loglikelihood = {}\n",
    "    logprior = 0\n",
    "\n",
    "    # calculate V, the number of unique words in the vocabulary\n",
    "    vocab = set([pair[0] for pair in freqs.keys()])\n",
    "    V = len(vocab)\n",
    "\n",
    "    # calculate N_pos and N_neg\n",
    "    N_pos = N_neg = 0\n",
    "    for pair in freqs.keys():\n",
    "        # if the label is positive (greater than zero)\n",
    "        if pair[1] > 0:\n",
    "            N_pos += freqs[pair]\n",
    "        # else, the label is negative\n",
    "        else:\n",
    "            N_neg += freqs[pair]\n",
    "\n",
    "    # Calculate D, the number of documents\n",
    "    D = len(train_y)\n",
    "\n",
    "    # Calculate D_pos, the number of positive documents \n",
    "    D_pos = sum(np.array(train_y) == 1)\n",
    "\n",
    "    # Calculate D_neg, the number of negative documents \n",
    "    D_neg = D - D_pos\n",
    "\n",
    "    # Calculate logprior\n",
    "    logprior = np.log(D_pos) - np.log(D_neg)\n",
    "\n",
    "    # For each word in the vocabulary...\n",
    "    for word in vocab:\n",
    "        # get the positive and negative frequency of the word\n",
    "        freq_pos = lookup(freqs,word,1)\n",
    "        freq_neg = lookup(freqs,word,0)\n",
    "\n",
    "        # calculate the probability that each word is positive, and negative\n",
    "        p_w_pos = (freq_pos+1)/(N_pos + V)\n",
    "        p_w_neg = (freq_neg+1)/(N_neg + V)\n",
    "\n",
    "        # calculate the log likelihood of the word\n",
    "        loglikelihood[word] = np.log(p_w_pos) - np.log(p_w_neg)\n",
    "\n",
    "    return logprior, loglikelihood\n"
   ]
  },
  {
   "cell_type": "code",
   "execution_count": 47,
   "id": "mounted-distinction",
   "metadata": {},
   "outputs": [
    {
     "name": "stdout",
     "output_type": "stream",
     "text": [
      "0.0\n",
      "9085\n"
     ]
    }
   ],
   "source": [
    "logprior, loglikelihood = train_naive_bayes(freqs, train_tweets, train_labels)\n",
    "print(logprior)\n",
    "print(len(loglikelihood))"
   ]
  },
  {
   "cell_type": "code",
   "execution_count": 48,
   "id": "individual-mainstream",
   "metadata": {},
   "outputs": [],
   "source": [
    "def naive_bayes_predict(tweet, logprior, loglikelihood):\n",
    "    '''\n",
    "    Input:\n",
    "        tweet: a string\n",
    "        logprior: a number\n",
    "        loglikelihood: a dictionary of words mapping to numbers\n",
    "    Output:\n",
    "        p: the sum of all the logliklihoods of each word in the tweet (if found in the dictionary) + logprior (a number)\n",
    "\n",
    "    '''\n",
    "    # process the tweet to get a list of words\n",
    "    word_l = process_tweet(tweet)\n",
    "\n",
    "    # initialize probability to zero\n",
    "    p = 0\n",
    "\n",
    "    # add the logprior\n",
    "    p += logprior\n",
    "\n",
    "    for word in word_l:\n",
    "\n",
    "        # check if the word exists in the loglikelihood dictionary\n",
    "        if word in loglikelihood:\n",
    "            # add the log likelihood of that word to the probability\n",
    "            p += loglikelihood[word]\n",
    "\n",
    "    return p\n"
   ]
  },
  {
   "cell_type": "code",
   "execution_count": 49,
   "id": "falling-preliminary",
   "metadata": {},
   "outputs": [],
   "source": [
    "def test_naive_bayes(test_x, test_y, logprior, loglikelihood):\n",
    "    \"\"\"\n",
    "    Input:\n",
    "        test_x: A list of tweets\n",
    "        test_y: the corresponding labels for the list of tweets\n",
    "        logprior: the logprior\n",
    "        loglikelihood: a dictionary with the loglikelihoods for each word\n",
    "    Output:\n",
    "        accuracy: (# of tweets classified correctly)/(total # of tweets)\n",
    "    \"\"\"\n",
    "    accuracy = 0 \n",
    "\n",
    "    y_hats = []\n",
    "    for tweet in test_x:\n",
    "        # if the prediction is > 0\n",
    "        if naive_bayes_predict(tweet, logprior, loglikelihood) > 0:\n",
    "            # the predicted class is 1\n",
    "            y_hat_i = 1\n",
    "        else:\n",
    "            # otherwise the predicted class is 0\n",
    "            y_hat_i = 0\n",
    "\n",
    "        # append the predicted class to the list y_hats\n",
    "        y_hats.append(y_hat_i)\n",
    "\n",
    "    error = np.sum(np.array(y_hats)!=np.array(test_y))/len(test_y)\n",
    "\n",
    "    accuracy = 1 - error\n",
    "\n",
    "    return accuracy\n"
   ]
  },
  {
   "cell_type": "code",
   "execution_count": 50,
   "id": "dated-document",
   "metadata": {},
   "outputs": [
    {
     "name": "stdout",
     "output_type": "stream",
     "text": [
      "Naive Bayes accuracy = 0.9940\n"
     ]
    }
   ],
   "source": [
    "print(\"Naive Bayes accuracy = %0.4f\" %\n",
    "      (test_naive_bayes(test_tweets, test_labels, logprior, loglikelihood)))"
   ]
  },
  {
   "cell_type": "markdown",
   "id": "fatal-witness",
   "metadata": {},
   "source": [
    " Accuracy of 99 %. That's marvellous."
   ]
  },
  {
   "cell_type": "code",
   "execution_count": 59,
   "id": "embedded-notice",
   "metadata": {},
   "outputs": [
    {
     "name": "stdout",
     "output_type": "stream",
     "text": [
      "The sentiment of the given tweet is positive\n"
     ]
    }
   ],
   "source": [
    "# Let's check it on any of our tweet. Take care that if the word is not present in the vocab, \n",
    "# that word won't contribute in helping to find the sentiment\n",
    "\n",
    "my_tweet = 'She was excited to watch the movie'\n",
    "p = naive_bayes_predict(my_tweet, logprior, loglikelihood)\n",
    "if p>0:\n",
    "    sentiment = \"positive\"\n",
    "else:\n",
    "    sentiment = \"negative\"\n",
    "print(\"The sentiment of the given tweet is\",sentiment)"
   ]
  }
 ],
 "metadata": {
  "kernelspec": {
   "display_name": "gputest",
   "language": "python",
   "name": "gputest"
  },
  "language_info": {
   "codemirror_mode": {
    "name": "ipython",
    "version": 3
   },
   "file_extension": ".py",
   "mimetype": "text/x-python",
   "name": "python",
   "nbconvert_exporter": "python",
   "pygments_lexer": "ipython3",
   "version": "3.7.9"
  }
 },
 "nbformat": 4,
 "nbformat_minor": 5
}
